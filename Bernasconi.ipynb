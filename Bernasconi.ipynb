{
  "nbformat": 4,
  "nbformat_minor": 0,
  "metadata": {
    "colab": {
      "provenance": [],
      "authorship_tag": "ABX9TyN95n/AQX192klX/qIqCV5S",
      "include_colab_link": true
    },
    "kernelspec": {
      "name": "python3",
      "display_name": "Python 3"
    },
    "language_info": {
      "name": "python"
    }
  },
  "cells": [
    {
      "cell_type": "markdown",
      "metadata": {
        "id": "view-in-github",
        "colab_type": "text"
      },
      "source": [
        "<a href=\"https://colab.research.google.com/github/BernasconiLorenzo06/verifiche-corrette/blob/main/Bernasconi.ipynb\" target=\"_parent\"><img src=\"https://colab.research.google.com/assets/colab-badge.svg\" alt=\"Open In Colab\"/></a>"
      ]
    },
    {
      "cell_type": "markdown",
      "source": [
        "#Esercizio 1"
      ],
      "metadata": {
        "id": "lHgR9zIrEwn9"
      }
    },
    {
      "cell_type": "code",
      "source": [
        "cassaComune = {\n",
        "     \"Aldo\": {\n",
        "          \"soldi versati\":[10,20,40,100,5]\n",
        "      },\n",
        "       \"Gianni\": {\n",
        "          \"soldi versati\":[50,50,25,30]\n",
        "      },\n",
        "       \"Andrea\": {\n",
        "          \"soldi versati\":[200,150] \n",
        "      },\n",
        "       \"Miki\": {\n",
        "          \"soldi versati\":[5,5,10,15,5,5,10,5,20] \n",
        "      }\n",
        "}\n",
        "cassaComune"
      ],
      "metadata": {
        "colab": {
          "base_uri": "https://localhost:8080/"
        },
        "id": "OVGcjEwnSN7W",
        "outputId": "da590cc6-2555-4ca1-fb57-1897fb1f80ee"
      },
      "execution_count": null,
      "outputs": [
        {
          "output_type": "execute_result",
          "data": {
            "text/plain": [
              "{'Aldo': {'soldi versati': [10, 20, 40, 100, 5]},\n",
              " 'Gianni': {'soldi versati': [50, 50, 25, 30]},\n",
              " 'Andrea': {'soldi versati': [200, 150]},\n",
              " 'Miki': {'soldi versati': [5, 5, 10, 15, 5, 5, 10, 5, 20]}}"
            ]
          },
          "metadata": {},
          "execution_count": 91
        }
      ]
    },
    {
      "cell_type": "code",
      "source": [
        "# 1 \n",
        "for key,value in cassaComune.items():\n",
        "  print(key,value)"
      ],
      "metadata": {
        "colab": {
          "base_uri": "https://localhost:8080/"
        },
        "id": "TBYqaq75QZWO",
        "outputId": "760348d8-67fe-41cf-eaab-1a3edf3bb488"
      },
      "execution_count": null,
      "outputs": [
        {
          "output_type": "stream",
          "name": "stdout",
          "text": [
            "Aldo {'soldi versati': [10, 20, 40, 100, 5]}\n",
            "Gianni {'soldi versati': [50, 50, 25, 30]}\n",
            "Andrea {'soldi versati': [200, 150]}\n",
            "Miki {'soldi versati': [5, 5, 10, 15, 5, 5, 10, 5, 20]}\n"
          ]
        }
      ]
    },
    {
      "cell_type": "markdown",
      "source": [
        "#Esercizio 2"
      ],
      "metadata": {
        "id": "XVnRds5AFGLA"
      }
    },
    {
      "cell_type": "code",
      "source": [
        "# 1 \n",
        "import random\n",
        "listaCasuale = [random.randint(1,20) for x in range(100)]\n",
        "print(listaCasuale)"
      ],
      "metadata": {
        "colab": {
          "base_uri": "https://localhost:8080/"
        },
        "id": "KdmlFuCmFKr8",
        "outputId": "71aaf150-664b-4ae3-b15d-21ce60b323e7"
      },
      "execution_count": null,
      "outputs": [
        {
          "output_type": "stream",
          "name": "stdout",
          "text": [
            "[16, 5, 7, 13, 16, 20, 8, 10, 3, 10, 10, 5, 3, 9, 7, 13, 2, 14, 20, 18, 12, 10, 6, 4, 7, 16, 9, 6, 19, 16, 18, 9, 20, 6, 12, 19, 4, 16, 20, 3, 9, 8, 12, 18, 15, 15, 17, 14, 18, 13, 18, 14, 19, 19, 9, 12, 16, 9, 20, 3, 11, 19, 5, 15, 16, 17, 9, 1, 20, 20, 4, 1, 2, 16, 1, 13, 1, 14, 17, 13, 18, 10, 1, 13, 12, 4, 13, 19, 8, 11, 20, 19, 5, 5, 4, 16, 3, 1, 1, 5]\n"
          ]
        }
      ]
    },
    {
      "cell_type": "code",
      "source": [
        "# 2\n",
        "ripetizioni = {i:listaCasuale.count(i) for i in listaCasuale}\n",
        "print(ripetizioni) "
      ],
      "metadata": {
        "colab": {
          "base_uri": "https://localhost:8080/"
        },
        "id": "vDg4w6QRRmSu",
        "outputId": "2d715dcb-52b7-4951-aa2b-26efcb319820"
      },
      "execution_count": null,
      "outputs": [
        {
          "output_type": "stream",
          "name": "stdout",
          "text": [
            "{16: 9, 5: 6, 7: 3, 13: 7, 20: 8, 8: 3, 10: 5, 3: 5, 9: 7, 2: 2, 14: 4, 18: 6, 12: 5, 6: 3, 4: 5, 19: 7, 15: 3, 17: 3, 11: 2, 1: 7}\n"
          ]
        }
      ]
    },
    {
      "cell_type": "code",
      "source": [
        "# 3\n",
        "for key,value in ripetizioni.items():\n",
        "  print(key,\"è stato ripetuto\",value, \"volte\")"
      ],
      "metadata": {
        "id": "1YoBehUqWFow"
      },
      "execution_count": null,
      "outputs": []
    },
    {
      "cell_type": "code",
      "source": [
        "# 4\n",
        "Ripetizioni = dict(sorted(ripetizioni.items(),reverse=True))\n",
        "print(Ripetizioni)"
      ],
      "metadata": {
        "colab": {
          "base_uri": "https://localhost:8080/"
        },
        "id": "O6kPNpdnX89Y",
        "outputId": "1c766615-4b7d-42e5-895e-716f2d0dd224"
      },
      "execution_count": null,
      "outputs": [
        {
          "output_type": "stream",
          "name": "stdout",
          "text": [
            "{20: 8, 19: 7, 18: 6, 17: 3, 16: 9, 15: 3, 14: 4, 13: 7, 12: 5, 11: 2, 10: 5, 9: 7, 8: 3, 7: 3, 6: 3, 5: 6, 4: 5, 3: 5, 2: 2, 1: 7}\n"
          ]
        }
      ]
    },
    {
      "cell_type": "markdown",
      "source": [
        "#Esercizio 3"
      ],
      "metadata": {
        "id": "-JCWqcunF1g3"
      }
    },
    {
      "cell_type": "code",
      "source": [
        "import pandas as pd"
      ],
      "metadata": {
        "id": "LFEZnXqBF3-j"
      },
      "execution_count": null,
      "outputs": []
    },
    {
      "cell_type": "code",
      "source": [
        "from google.colab import drive\n",
        "drive.mount('/content/drive')"
      ],
      "metadata": {
        "colab": {
          "base_uri": "https://localhost:8080/"
        },
        "id": "JK4i9lLRGx3s",
        "outputId": "cc43f375-564e-4b9f-8b5d-e53741433080"
      },
      "execution_count": null,
      "outputs": [
        {
          "output_type": "stream",
          "name": "stdout",
          "text": [
            "Mounted at /content/drive\n"
          ]
        }
      ]
    },
    {
      "cell_type": "code",
      "source": [
        "df = pd.read_csv(\"/content/drive/MyDrive/Colab Notebooks/df_3.csv\") \n",
        "df"
      ],
      "metadata": {
        "id": "xk1JCAXqG1XD"
      },
      "execution_count": null,
      "outputs": []
    },
    {
      "cell_type": "code",
      "source": [
        "# 2 \n",
        "df.tail(10)\n"
      ],
      "metadata": {
        "id": "QeO6_cfSHITM"
      },
      "execution_count": null,
      "outputs": []
    },
    {
      "cell_type": "code",
      "source": [
        "df[-10:]"
      ],
      "metadata": {
        "id": "nSSy-ziGHePU"
      },
      "execution_count": null,
      "outputs": []
    },
    {
      "cell_type": "code",
      "source": [
        "# 3\n",
        "df[200:211][[\"Name\",\"Chief developer, company\"]]"
      ],
      "metadata": {
        "id": "0oiOSoUfHm2s"
      },
      "execution_count": null,
      "outputs": []
    },
    {
      "cell_type": "code",
      "source": [
        "# 4\n",
        "df[(len(df)//2)-5:(len(df)//2)+5]"
      ],
      "metadata": {
        "id": "AStdNyDcIHjU"
      },
      "execution_count": null,
      "outputs": []
    },
    {
      "cell_type": "code",
      "source": [
        "# 5\n",
        "df[df[\"Predecessor(s)\"].isnull()][[\"Name\"]].count()"
      ],
      "metadata": {
        "id": "cMbp9mZuIhdl"
      },
      "execution_count": null,
      "outputs": []
    },
    {
      "cell_type": "code",
      "source": [
        "# 6\n",
        "df[df[\"Name\"].str.contains(\"Pascal\", na= False)][[\"Name\"]]"
      ],
      "metadata": {
        "id": "yciirgpII5HF"
      },
      "execution_count": null,
      "outputs": []
    },
    {
      "cell_type": "code",
      "source": [
        "# 7\n",
        "df[df[\"Name\"].str.contains(\"c\\+\\+\")][[\"Name\"]]"
      ],
      "metadata": {
        "colab": {
          "base_uri": "https://localhost:8080/",
          "height": 49
        },
        "id": "zqe7celaJXFE",
        "outputId": "9dad5583-abae-4ab2-f464-9230147006d8"
      },
      "execution_count": null,
      "outputs": [
        {
          "output_type": "execute_result",
          "data": {
            "text/plain": [
              "Empty DataFrame\n",
              "Columns: [Name]\n",
              "Index: []"
            ],
            "text/html": [
              "\n",
              "  <div id=\"df-c61856f3-7f17-40dc-b109-935bcd2d15b8\">\n",
              "    <div class=\"colab-df-container\">\n",
              "      <div>\n",
              "<style scoped>\n",
              "    .dataframe tbody tr th:only-of-type {\n",
              "        vertical-align: middle;\n",
              "    }\n",
              "\n",
              "    .dataframe tbody tr th {\n",
              "        vertical-align: top;\n",
              "    }\n",
              "\n",
              "    .dataframe thead th {\n",
              "        text-align: right;\n",
              "    }\n",
              "</style>\n",
              "<table border=\"1\" class=\"dataframe\">\n",
              "  <thead>\n",
              "    <tr style=\"text-align: right;\">\n",
              "      <th></th>\n",
              "      <th>Name</th>\n",
              "    </tr>\n",
              "  </thead>\n",
              "  <tbody>\n",
              "  </tbody>\n",
              "</table>\n",
              "</div>\n",
              "      <button class=\"colab-df-convert\" onclick=\"convertToInteractive('df-c61856f3-7f17-40dc-b109-935bcd2d15b8')\"\n",
              "              title=\"Convert this dataframe to an interactive table.\"\n",
              "              style=\"display:none;\">\n",
              "        \n",
              "  <svg xmlns=\"http://www.w3.org/2000/svg\" height=\"24px\"viewBox=\"0 0 24 24\"\n",
              "       width=\"24px\">\n",
              "    <path d=\"M0 0h24v24H0V0z\" fill=\"none\"/>\n",
              "    <path d=\"M18.56 5.44l.94 2.06.94-2.06 2.06-.94-2.06-.94-.94-2.06-.94 2.06-2.06.94zm-11 1L8.5 8.5l.94-2.06 2.06-.94-2.06-.94L8.5 2.5l-.94 2.06-2.06.94zm10 10l.94 2.06.94-2.06 2.06-.94-2.06-.94-.94-2.06-.94 2.06-2.06.94z\"/><path d=\"M17.41 7.96l-1.37-1.37c-.4-.4-.92-.59-1.43-.59-.52 0-1.04.2-1.43.59L10.3 9.45l-7.72 7.72c-.78.78-.78 2.05 0 2.83L4 21.41c.39.39.9.59 1.41.59.51 0 1.02-.2 1.41-.59l7.78-7.78 2.81-2.81c.8-.78.8-2.07 0-2.86zM5.41 20L4 18.59l7.72-7.72 1.47 1.35L5.41 20z\"/>\n",
              "  </svg>\n",
              "      </button>\n",
              "      \n",
              "  <style>\n",
              "    .colab-df-container {\n",
              "      display:flex;\n",
              "      flex-wrap:wrap;\n",
              "      gap: 12px;\n",
              "    }\n",
              "\n",
              "    .colab-df-convert {\n",
              "      background-color: #E8F0FE;\n",
              "      border: none;\n",
              "      border-radius: 50%;\n",
              "      cursor: pointer;\n",
              "      display: none;\n",
              "      fill: #1967D2;\n",
              "      height: 32px;\n",
              "      padding: 0 0 0 0;\n",
              "      width: 32px;\n",
              "    }\n",
              "\n",
              "    .colab-df-convert:hover {\n",
              "      background-color: #E2EBFA;\n",
              "      box-shadow: 0px 1px 2px rgba(60, 64, 67, 0.3), 0px 1px 3px 1px rgba(60, 64, 67, 0.15);\n",
              "      fill: #174EA6;\n",
              "    }\n",
              "\n",
              "    [theme=dark] .colab-df-convert {\n",
              "      background-color: #3B4455;\n",
              "      fill: #D2E3FC;\n",
              "    }\n",
              "\n",
              "    [theme=dark] .colab-df-convert:hover {\n",
              "      background-color: #434B5C;\n",
              "      box-shadow: 0px 1px 3px 1px rgba(0, 0, 0, 0.15);\n",
              "      filter: drop-shadow(0px 1px 2px rgba(0, 0, 0, 0.3));\n",
              "      fill: #FFFFFF;\n",
              "    }\n",
              "  </style>\n",
              "\n",
              "      <script>\n",
              "        const buttonEl =\n",
              "          document.querySelector('#df-c61856f3-7f17-40dc-b109-935bcd2d15b8 button.colab-df-convert');\n",
              "        buttonEl.style.display =\n",
              "          google.colab.kernel.accessAllowed ? 'block' : 'none';\n",
              "\n",
              "        async function convertToInteractive(key) {\n",
              "          const element = document.querySelector('#df-c61856f3-7f17-40dc-b109-935bcd2d15b8');\n",
              "          const dataTable =\n",
              "            await google.colab.kernel.invokeFunction('convertToInteractive',\n",
              "                                                     [key], {});\n",
              "          if (!dataTable) return;\n",
              "\n",
              "          const docLinkHtml = 'Like what you see? Visit the ' +\n",
              "            '<a target=\"_blank\" href=https://colab.research.google.com/notebooks/data_table.ipynb>data table notebook</a>'\n",
              "            + ' to learn more about interactive tables.';\n",
              "          element.innerHTML = '';\n",
              "          dataTable['output_type'] = 'display_data';\n",
              "          await google.colab.output.renderOutput(dataTable, element);\n",
              "          const docLink = document.createElement('div');\n",
              "          docLink.innerHTML = docLinkHtml;\n",
              "          element.appendChild(docLink);\n",
              "        }\n",
              "      </script>\n",
              "    </div>\n",
              "  </div>\n",
              "  "
            ]
          },
          "metadata": {},
          "execution_count": 133
        }
      ]
    },
    {
      "cell_type": "code",
      "source": [
        "# 8 \n",
        "DfAnno = df.groupby(\"Year\").count()[[\"Name\"]].reset_index()\n",
        "DfAnno"
      ],
      "metadata": {
        "id": "6N3A_L9vKNoO"
      },
      "execution_count": null,
      "outputs": []
    },
    {
      "cell_type": "code",
      "source": [
        "DfMaggiore5 = DfAnno[DfAnno[\"Name\"] > 5].reset_index()\n",
        "DfMaggiore5"
      ],
      "metadata": {
        "id": "gMivaW_mNJlN"
      },
      "execution_count": null,
      "outputs": []
    },
    {
      "cell_type": "code",
      "source": [
        "# 9 \n",
        "import matplotlib.pyplot as plt\n",
        "import numpy as np\n",
        "labels = DfMaggiore5['Year']\n",
        "dati = DfMaggiore5['Name']\n",
        "\n",
        "fig, ax = plt.subplots(figsize=(15,8))\n",
        "ax.bar(labels, dati, label='1 Linguaggio di programmazione', color=[\"red\",\"green\",\"blue\", \"grey\", \"orange\", \"yellow\"], alpha=.4)\n",
        "\n",
        "ax.set_ylabel('Numero Linguaggi di programmazione')\n",
        "ax.set_title('Anni dove sono stati prodotti più di 5 linguaggi di programmazione')\n",
        "ax.set_xticklabels(labels) \n",
        "ax.legend()"
      ],
      "metadata": {
        "colab": {
          "base_uri": "https://localhost:8080/",
          "height": 516
        },
        "id": "a0tlNSUzMNx9",
        "outputId": "1713b400-f485-415c-84d7-21f2683a9191"
      },
      "execution_count": null,
      "outputs": [
        {
          "output_type": "execute_result",
          "data": {
            "text/plain": [
              "<matplotlib.legend.Legend at 0x7f2ed2f1f3d0>"
            ]
          },
          "metadata": {},
          "execution_count": 136
        },
        {
          "output_type": "display_data",
          "data": {
            "text/plain": [
              "<Figure size 1080x576 with 1 Axes>"
            ],
            "image/png": "[encoded data removed]"
          },
          "metadata": {
            "needs_background": "light"
          }
        }
      ]
    }
  ]
}