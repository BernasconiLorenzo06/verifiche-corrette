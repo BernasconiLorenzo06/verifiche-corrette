{
  "nbformat": 4,
  "nbformat_minor": 0,
  "metadata": {
    "colab": {
      "provenance": [],
      "include_colab_link": true
    },
    "kernelspec": {
      "name": "python3",
      "display_name": "Python 3"
    },
    "language_info": {
      "name": "python"
    }
  },
  "cells": [
    {
      "cell_type": "markdown",
      "metadata": {
        "id": "view-in-github",
        "colab_type": "text"
      },
      "source": [
        "<a href=\"https://colab.research.google.com/github/BernasconiLorenzo06/verifiche-corrette/blob/main/VERIFICA_2.ipynb\" target=\"_parent\"><img src=\"https://colab.research.google.com/assets/colab-badge.svg\" alt=\"Open In Colab\"/></a>"
      ]
    },
    {
      "cell_type": "code",
      "source": [
        "from google.colab import drive\n",
        "drive.mount('/content/drive')\n",
        "import pandas as pd"
      ],
      "metadata": {
        "colab": {
          "base_uri": "https://localhost:8080/"
        },
        "id": "PQUK2BdVYNMD",
        "outputId": "32658c2f-16bf-4b41-a368-02c8d6dfe12d"
      },
      "execution_count": null,
      "outputs": [
        {
          "output_type": "stream",
          "name": "stdout",
          "text": [
            "Mounted at /content/drive\n"
          ]
        }
      ]
    },
    {
      "cell_type": "markdown",
      "source": [
        "1. caricare i dati del file in un dataframe Pandas"
      ],
      "metadata": {
        "id": "Jr5_-qr-mDPv"
      }
    },
    {
      "cell_type": "code",
      "execution_count": null,
      "metadata": {
        "id": "tmSBuPN1YJ7T"
      },
      "outputs": [],
      "source": [
        "df = pd.read_excel(\"/content/drive/MyDrive/Colab Notebooks/Medals.xlsx\")"
      ]
    },
    {
      "cell_type": "code",
      "source": [
        "df"
      ],
      "metadata": {
        "id": "RraZhoz_aNbR"
      },
      "execution_count": null,
      "outputs": []
    },
    {
      "cell_type": "markdown",
      "source": [
        "2. visualizzare il totale delle medaglie delle prime 10 nazioni"
      ],
      "metadata": {
        "id": "fFidaPfBmDu2"
      }
    },
    {
      "cell_type": "code",
      "source": [
        "df[:10][\"Total\"].sum()"
      ],
      "metadata": {
        "id": "wXiQJlQ-ZXeJ"
      },
      "execution_count": null,
      "outputs": []
    },
    {
      "cell_type": "markdown",
      "source": [
        "3. visualizzare la nazione (o le nazioni) che ha vinto, in totale, meno medaglie"
      ],
      "metadata": {
        "id": "qp0JdM9bmJdG"
      }
    },
    {
      "cell_type": "code",
      "source": [
        "df[df[\"Total\"]==df[\"Total\"].min()][[\"Team/NOC\"]]"
      ],
      "metadata": {
        "id": "m1pgVJHiawZB"
      },
      "execution_count": null,
      "outputs": []
    },
    {
      "cell_type": "markdown",
      "source": [
        "4. visualizzare le nazioni che hanno vinto più medaglie di bronzo rispetto alle medaglie d'argento"
      ],
      "metadata": {
        "id": "VR6oVhYOmLJg"
      }
    },
    {
      "cell_type": "code",
      "source": [
        "df[(df[\"Bronze\"]>df[\"Silver\"])]"
      ],
      "metadata": {
        "id": "QxfoYmT4bUyC"
      },
      "execution_count": null,
      "outputs": []
    },
    {
      "cell_type": "markdown",
      "source": [
        "5. visualizzare il numero di nazioni che non hanno vinto medaglie d'oro"
      ],
      "metadata": {
        "id": "VHu-XheQmRs2"
      }
    },
    {
      "cell_type": "code",
      "source": [
        "df[(df[\"Gold\"]==0)]"
      ],
      "metadata": {
        "id": "_9kkDp6dcDwp"
      },
      "execution_count": null,
      "outputs": []
    },
    {
      "cell_type": "markdown",
      "source": [
        "6. visualizzare il numero totale di medaglie d'oro e d'argento"
      ],
      "metadata": {
        "id": "gbXXX08EmUeO"
      }
    },
    {
      "cell_type": "code",
      "source": [
        "df[\"Gold\"] = df[\"Gold\"] + df[\"Silver\"]\n",
        "df[\"Gold\"] "
      ],
      "metadata": {
        "id": "jFDDuFtodvm4"
      },
      "execution_count": null,
      "outputs": []
    },
    {
      "cell_type": "markdown",
      "source": [
        "7. visualizzare la nazione che ha vinto più medaglie di bronzo"
      ],
      "metadata": {
        "id": "iuEFMiLYmWlu"
      }
    },
    {
      "cell_type": "code",
      "source": [
        "df[df[\"Bronze\"]==df[\"Bronze\"].max()][[\"Team/NOC\"]]"
      ],
      "metadata": {
        "id": "bJh9WhejekLg"
      },
      "execution_count": null,
      "outputs": []
    },
    {
      "cell_type": "markdown",
      "source": [
        "8. visualizzare le nazioni che non hanno vinto medaglie d'argento"
      ],
      "metadata": {
        "id": "6OyudUWOmaN2"
      }
    },
    {
      "cell_type": "code",
      "source": [
        "df[(df[\"Silver\"]==0)]"
      ],
      "metadata": {
        "id": "qfLZ-Q4bezxx"
      },
      "execution_count": null,
      "outputs": []
    },
    {
      "cell_type": "markdown",
      "source": [
        "9. visualizzare le nazioni che hanno vinto un numero di medaglie d'argento superiore alla media"
      ],
      "metadata": {
        "id": "BDKfRmI0mcbG"
      }
    },
    {
      "cell_type": "code",
      "source": [
        "df[(df[\"Silver\"]>df[\"Silver\"].mean())]"
      ],
      "metadata": {
        "id": "J81G3R4ke7lw"
      },
      "execution_count": null,
      "outputs": []
    },
    {
      "cell_type": "markdown",
      "source": [
        "10. caricare i dati del file in un dataframe Pandas"
      ],
      "metadata": {
        "id": "TTnU57GNmeqO"
      }
    },
    {
      "cell_type": "code",
      "source": [
        "dt=pd.read_excel(\"/content/drive/MyDrive/Colab Notebooks/Athletes.xlsx\")\n",
        "dt"
      ],
      "metadata": {
        "id": "pyJKXYWQfcWg"
      },
      "execution_count": null,
      "outputs": []
    },
    {
      "cell_type": "markdown",
      "source": [
        "11. visualizzare i nomi degli atleti italiani"
      ],
      "metadata": {
        "id": "BDhkAWF4mfV2"
      }
    },
    {
      "cell_type": "code",
      "source": [
        "dt[(dt[\"NOC\"]==\"Italy\")]"
      ],
      "metadata": {
        "id": "Yl3QYQVYfvCY"
      },
      "execution_count": null,
      "outputs": []
    },
    {
      "cell_type": "markdown",
      "source": [
        "12. controllare se gli atleti italiani sono di più o di meno degli atleti francesi"
      ],
      "metadata": {
        "id": "aQ0jF8iYmfnm"
      }
    },
    {
      "cell_type": "code",
      "source": [
        "if len(dt[(dt[\"NOC\"]==\"Italy\")])> len(dt[(dt[\"NOC\"]==\"France\")]):\n",
        "  print(\"Ci sono più italiani\")\n",
        "else:\n",
        "  print(\"Ci sono più francesi\")"
      ],
      "metadata": {
        "id": "12PlcpkDf9iX"
      },
      "execution_count": null,
      "outputs": []
    },
    {
      "cell_type": "markdown",
      "source": [
        "13. visualizzare tutti gli atleti che si chiamano Giovanni"
      ],
      "metadata": {
        "id": "ZLZm4EIFmhdt"
      }
    },
    {
      "cell_type": "code",
      "source": [
        "dt[dt[\"Name\"].str.contains(\"Giovanni\")]"
      ],
      "metadata": {
        "id": "SPLMsa5sgkwh"
      },
      "execution_count": null,
      "outputs": []
    },
    {
      "cell_type": "markdown",
      "source": [
        "14. visualizzare gli atleti che si chiamano Alberto ma che non sono italiani"
      ],
      "metadata": {
        "id": "BzTA4ZpQmhv-"
      }
    },
    {
      "cell_type": "code",
      "source": [
        "dt[(dt[\"Name\"].str.contains(\"Alberto\")) & (dt[\"NOC\"]!=\"Italy\")]"
      ],
      "metadata": {
        "id": "effx8YTFg07Z"
      },
      "execution_count": null,
      "outputs": []
    },
    {
      "cell_type": "markdown",
      "source": [
        "15 visualizzare il numero di atleti della squadra di basket spagnola"
      ],
      "metadata": {
        "id": "clpNdbzhmjYF"
      }
    },
    {
      "cell_type": "code",
      "source": [
        "len(dt[(dt[\"NOC\"]==\"Spain\") & (dt[\"Discipline\"]==\"Basketball\")])"
      ],
      "metadata": {
        "id": "0jT3YcNYhjx_"
      },
      "execution_count": null,
      "outputs": []
    },
    {
      "cell_type": "markdown",
      "source": [
        "16. visualizzare i dati del dataframe ordinati in ordine alfabetico sulla disciplina"
      ],
      "metadata": {
        "id": "D06O1qfxmiqu"
      }
    },
    {
      "cell_type": "code",
      "source": [
        "dt.sort_values(by=[\"Discipline\"])"
      ],
      "metadata": {
        "id": "bdlWuUXRhuDn"
      },
      "execution_count": null,
      "outputs": []
    },
    {
      "cell_type": "markdown",
      "source": [
        "17. visualizzare gli atleti scandinavi"
      ],
      "metadata": {
        "id": "htcle4fjmiWW"
      }
    },
    {
      "cell_type": "code",
      "source": [
        "dt[(dt[\"NOC\"]==\"Norway\") | (dt[\"NOC\"]==\"Sweden\") | (dt[\"NOC\"]==\"Finland\") | (dt[\"NOC\"]==\"Iceland\")]"
      ],
      "metadata": {
        "id": "mFoJT5OaiPWo"
      },
      "execution_count": null,
      "outputs": []
    },
    {
      "cell_type": "markdown",
      "source": [
        "18. eliminare tutti gli atleti della Francia"
      ],
      "metadata": {
        "id": "9_9neVSFmiJO"
      }
    },
    {
      "cell_type": "code",
      "source": [
        "del (dt[(dt[\"NOC\"]==\"France\")])"
      ],
      "metadata": {
        "id": "z01M1NW3jMJm"
      },
      "execution_count": null,
      "outputs": []
    }
  ]
}