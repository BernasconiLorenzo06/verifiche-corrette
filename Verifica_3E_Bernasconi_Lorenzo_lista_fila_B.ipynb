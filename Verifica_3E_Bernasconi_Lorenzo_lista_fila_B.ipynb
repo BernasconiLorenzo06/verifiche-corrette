{
  "nbformat": 4,
  "nbformat_minor": 0,
  "metadata": {
    "colab": {
      "provenance": [],
      "authorship_tag": "ABX9TyNy+kiVVvd8G5O2J8W68Q0y",
      "include_colab_link": true
    },
    "kernelspec": {
      "name": "python3",
      "display_name": "Python 3"
    },
    "language_info": {
      "name": "python"
    }
  },
  "cells": [
    {
      "cell_type": "markdown",
      "metadata": {
        "id": "view-in-github",
        "colab_type": "text"
      },
      "source": [
        "<a href=\"https://colab.research.google.com/github/BernasconiLorenzo06/verifiche-corrette/blob/main/Verifica_3E_Bernasconi_Lorenzo_lista_fila_B.ipynb\" target=\"_parent\"><img src=\"https://colab.research.google.com/assets/colab-badge.svg\" alt=\"Open In Colab\"/></a>"
      ]
    },
    {
      "cell_type": "code",
      "execution_count": null,
      "metadata": {
        "id": "W4mesePC5eIR"
      },
      "outputs": [],
      "source": [
        "#12 caricare in strutture dati opportune i valori della temperatura e della probabilita di precipitazione del 6 ottobre nel corso della giornata\n",
        "temperature = [11,11,10,9,11,12,12,12,13,14,15,17,19,21,24,24,24,22,20,18,16,14,12,11]\n",
        "oreGiornata = [1,2,3,4,5,6,7,8,9,10,11,12,13,14,15,16,17,18,19,20,21,22,23,24]\n",
        "probabilità = [90,90,90,70,70,30,30,10,10,0,0,0,0,0,0,0,0,0,0,5,10,15,20,25]"
      ]
    },
    {
      "cell_type": "code",
      "source": [
        "#13 visualizzare la temperatura e la probabilità di precipitazione alle ore 18\n",
        "print(temperature[19])\n",
        "print(probabilità[19])"
      ],
      "metadata": {
        "id": "iDIUTUyH6vTu"
      },
      "execution_count": null,
      "outputs": []
    },
    {
      "cell_type": "code",
      "source": [
        "#14 visualizzare la temperatura e la probabilità di precipitazione dalle 10 alle 18 (estremi compresi)\n",
        "print(probabilità[9:18])\n",
        "print(temperature[9:18])"
      ],
      "metadata": {
        "id": "-hG6LeJr78v0"
      },
      "execution_count": null,
      "outputs": []
    },
    {
      "cell_type": "code",
      "source": [
        "#15 visualizzare la temperatura e la probabilità di precipitazioni dalle 12 a fine giornata\n",
        "print(probabilità[13:])\n",
        "print(temperature[13:])"
      ],
      "metadata": {
        "id": "uMUa-_EQ8W0k"
      },
      "execution_count": null,
      "outputs": []
    },
    {
      "cell_type": "code",
      "source": [
        "#16 visualizzare la temperatura e la probabilità di precipitazioni dall'inizio della giornata fino alle 14 comprese\n",
        "print(probabilità[:14])\n",
        "print(temperature[:14])"
      ],
      "metadata": {
        "id": "oa0SlBwZ8pZj"
      },
      "execution_count": null,
      "outputs": []
    },
    {
      "cell_type": "code",
      "source": [
        "#17 visualizzare la temperatura ogni due ore a partire dalle 4 del mattino\n",
        "print(temperature[4:25:2])"
      ],
      "metadata": {
        "id": "7F2WegO882H8"
      },
      "execution_count": null,
      "outputs": []
    },
    {
      "cell_type": "code",
      "source": [
        "#18 visualizzare il valore di temperatura piu alta della giornata\n",
        "temperaturaMassima = max(temperature)\n",
        "print(temperaturaMassima)\n"
      ],
      "metadata": {
        "id": "-q58nnmS9ELF"
      },
      "execution_count": null,
      "outputs": []
    },
    {
      "cell_type": "code",
      "source": [
        "#19 visualizzare la probabilità di precipitazione media della giornata\n",
        "from statistics import mean\n",
        "print(mean(probabilità))"
      ],
      "metadata": {
        "id": "d0YO3N0v9Uh8"
      },
      "execution_count": null,
      "outputs": []
    },
    {
      "cell_type": "code",
      "source": [
        "#20 visualizzare le ore in cui è stata rilevata la temperatura piu alta \n",
        "temperaturaMassima = max(temperature)\n",
        "print(temperaturaMassima)\n",
        "print(oreGiornata[temperature.index(temperaturaMassima)])\n"
      ],
      "metadata": {
        "id": "sKCSUdNM9wbs"
      },
      "execution_count": null,
      "outputs": []
    },
    {
      "cell_type": "code",
      "source": [
        "#21 modificare il dato relativo alla temperatura dalle ore 16: non era 24 gardi ma 25\n",
        "temperature[15] = 25\n",
        "print(temperature)"
      ],
      "metadata": {
        "id": "YUCYB8Qn-NoV"
      },
      "execution_count": null,
      "outputs": []
    },
    {
      "cell_type": "code",
      "source": [
        "#22 visualizzare temperature e precipitazioni a partire dalle 24 fino all'1\n",
        "temperature.reverse()\n",
        "print(temperature)\n",
        "probabilità.reverse()\n",
        "print(probabilità)"
      ],
      "metadata": {
        "id": "q-CWKl5b_CKd"
      },
      "execution_count": null,
      "outputs": []
    }
  ]
}