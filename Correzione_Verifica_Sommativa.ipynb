{
  "nbformat": 4,
  "nbformat_minor": 0,
  "metadata": {
    "colab": {
      "provenance": [],
      "authorship_tag": "ABX9TyNfua+kmhbZqWu014vmhor4",
      "include_colab_link": true
    },
    "kernelspec": {
      "name": "python3",
      "display_name": "Python 3"
    },
    "language_info": {
      "name": "python"
    }
  },
  "cells": [
    {
      "cell_type": "markdown",
      "metadata": {
        "id": "view-in-github",
        "colab_type": "text"
      },
      "source": [
        "<a href=\"https://colab.research.google.com/github/BernasconiLorenzo06/verifiche-corrette/blob/main/Correzione_Verifica_Sommativa.ipynb\" target=\"_parent\"><img src=\"https://colab.research.google.com/assets/colab-badge.svg\" alt=\"Open In Colab\"/></a>"
      ]
    },
    {
      "cell_type": "markdown",
      "source": [
        "Esercizio 1\n",
        "\n",
        "Un gruppo di amici ha trascorso il ponte di sant’Ambrogio presso una famosa località sciistica e hanno voluto creare una cassa comune in cui mettere, al bisogno, i soldi da utilizzare per tutte le spese (vitto, alloggio, trasporti, impianti sciistici, …). In particolare, i contributi dei vari amici sono stati i seguenti:\n",
        "Aldo ha contribuito diverse volte, versando 10€, 20€, 40€, 100€ e 5€\n",
        "Anche Gianni ha contribuito diverse volte, versando 50€, 50€, 25€ e 30€\n",
        "Andrea ha dato due soli contributi, versando 200€ e 150€\n",
        "Miki infine ha versato molto spesso poche cifre: 5€, 5€, 10€, 15€, 5€, 5€, 10€, 5€ e 20€\n",
        "Scegliere una struttura dati (una sola) che possa contenere tutte le informazioni e chiamarla “cassaComune”. Utilizzare poi questa struttura dati e scrivere il codice per estrarre le seguenti informazioni\n",
        "\n",
        "-gli ultimi due versamenti di ogni amico\n",
        "\n",
        "-visualizzare in nome e i versamenti\n",
        "\n",
        "-il totale versato da ogni amico: \n",
        "\n",
        "-visualizzare in nome e il totale\n",
        "\n",
        "\n",
        "-l’amico che ha versato di più\n",
        "\n",
        "-dato il nome di un amico, inserito dall’utente, visualizzare i suoi versamenti a partire dal minore fino al maggiore. \n",
        "\n",
        "-Controllare che il nome dell’amico sia presente, altrimenti dare un messaggio di errore opportuno\n",
        "\n",
        "\n",
        "Andrea ha ottenuto un rimborso premio delle sue spese: eliminarlo dalla struttura dati\n"
      ],
      "metadata": {
        "id": "r0eqvh8NBRme"
      }
    },
    {
      "cell_type": "code",
      "execution_count": null,
      "metadata": {
        "id": "4DRKKjxPAsq4"
      },
      "outputs": [],
      "source": [
        "cassaComune = {\n",
        "    \"Aldo\":[10,20,40,100,5],\n",
        "    \"Gianni\":[50,50,25,30],\n",
        "    \"Andrea\":[200,150],\n",
        "    \"Miki\":[5,5,10,15,5,5,10,5,20]\n",
        "}\n",
        "cassaComune"
      ]
    },
    {
      "cell_type": "code",
      "source": [
        "# 1 gli ultimi due versamenti di ogni amico\n",
        "for amico,versamenti in cassaComune .items():\n",
        "  print(amico,\"-\",versamenti[-2:])"
      ],
      "metadata": {
        "id": "jo58Fn7xCtez"
      },
      "execution_count": null,
      "outputs": []
    },
    {
      "cell_type": "code",
      "source": [
        "# 2 il totale versato da ogni amico:\n",
        "for amico,versamenti in cassaComune .items():\n",
        "  print(amico,\"-\",sum(versamenti))"
      ],
      "metadata": {
        "id": "ndk7lGCTDQZL"
      },
      "execution_count": null,
      "outputs": []
    },
    {
      "cell_type": "code",
      "source": [
        "# 3 -l’amico che ha versato di più\n",
        "lista = []\n",
        "for amico,versamenti in cassaComune .items():\n",
        "  lista.append(sum(versamenti))\n",
        "massimo = max(lista)\n",
        "for amico,versamenti in cassaComune .items():\n",
        "  if sum(versamenti) == massimo:\n",
        "    print(amico)"
      ],
      "metadata": {
        "colab": {
          "base_uri": "https://localhost:8080/"
        },
        "id": "kTrK0RdeDcOD",
        "outputId": "59264277-fa45-4745-e202-4eb73582a4cb"
      },
      "execution_count": null,
      "outputs": [
        {
          "output_type": "stream",
          "name": "stdout",
          "text": [
            "Andrea\n"
          ]
        }
      ]
    },
    {
      "cell_type": "code",
      "source": [
        "# 4 -dato il nome di un amico, inserito dall’utente, visualizzare i suoi versamenti a partire dal minore fino al maggiore.\n",
        "nomeAmico = input(\"nome amico\")\n",
        "if nomeAmico in cassaComune:\n",
        "  print(nomeAmico,\":\",sorted(cassaComune[nomeAmico]))"
      ],
      "metadata": {
        "id": "6XrmiObyDulr"
      },
      "execution_count": null,
      "outputs": []
    },
    {
      "cell_type": "code",
      "source": [
        "# 6 Andrea ha ottenuto un rimborso premio delle sue spese: eliminarlo dalla struttura dati\n",
        "cassaComune.pop(\"Andrea\")\n",
        "cassaComune"
      ],
      "metadata": {
        "id": "mkqiDZ8hEOw8"
      },
      "execution_count": null,
      "outputs": []
    },
    {
      "cell_type": "code",
      "source": [
        "CassaComune = [\n",
        "    {\n",
        "      \"nome\":\"Aldo\",\n",
        "      \"versamenti\":[10,20,40,100,5]\n",
        "    },\n",
        "     {\n",
        "      \"nome\":\"Gianni\",\n",
        "      \"versamenti\":[50,50,25,30]\n",
        "    },\n",
        "     {\n",
        "      \"nome\":\"Andrea\",\n",
        "      \"versamenti\":[200,150]\n",
        "    },\n",
        "     {\n",
        "      \"nome\":\"Miki\",\n",
        "      \"versamenti\":[5,5,10,15,5,5,10,5,20]\n",
        "    }\n",
        "]\n",
        "CassaComune"
      ],
      "metadata": {
        "colab": {
          "base_uri": "https://localhost:8080/"
        },
        "id": "3yJKW4jeHQkC",
        "outputId": "93521dfc-f597-41a3-c95c-8984e5fdd5a8"
      },
      "execution_count": null,
      "outputs": [
        {
          "output_type": "execute_result",
          "data": {
            "text/plain": [
              "[{'nome': 'Aldo', 'versamenti': [10, 20, 40, 100, 5]},\n",
              " {'nome': 'Gianni', 'versamenti': [50, 50, 25, 30]},\n",
              " {'nome': 'Andrea', 'versamenti': [200, 150]},\n",
              " {'nome': 'Miki', 'versamenti': [5, 5, 10, 15, 5, 5, 10, 5, 20]}]"
            ]
          },
          "metadata": {},
          "execution_count": 26
        }
      ]
    },
    {
      "cell_type": "code",
      "source": [
        "# 1 gli ultimi due versamenti di ogni amico\n",
        "for dizionario in CassaComune:\n",
        "  print(dizionario[\"nome\"],dizionario[\"versamenti\"][-2:])"
      ],
      "metadata": {
        "id": "0X5QYaHfIJps"
      },
      "execution_count": null,
      "outputs": []
    },
    {
      "cell_type": "code",
      "source": [
        "# 2 # 2 il totale versato da ogni amico:\n",
        "for dizionario in CassaComune:\n",
        "  print(dizionario[\"nome\"],sum(dizionario[\"versamenti\"]))"
      ],
      "metadata": {
        "id": "8ki3tFmUIs01"
      },
      "execution_count": null,
      "outputs": []
    },
    {
      "cell_type": "code",
      "source": [
        "# 3 l’amico che ha versato di più\n",
        "lista1 = [sum(dizionario[\"versamenti\"]) for dizionario in CassaComune]\n",
        "massimo = max(lista1)\n",
        "for dizionario in CassaComune:\n",
        "  if sum(dizionario[\"versamenti\"]) == massimo:\n",
        "    print(dizionario[\"nome\"])"
      ],
      "metadata": {
        "id": "9yn4f1MGOMHr"
      },
      "execution_count": null,
      "outputs": []
    },
    {
      "cell_type": "code",
      "source": [
        "# 4 dato il nome di un amico, inserito dall’utente, visualizzare i suoi versamenti a partire dal minore fino al maggiore.\n",
        "x = False\n",
        "nomeAmico = input(\"nome amico \")\n",
        "for amici in CassaComune:\n",
        "  if nomeAmico == amici[\"nome\"]:\n",
        "    print(sorted(amici[\"versamenti\"]))\n",
        "    x =  True\n",
        "if x == False:\n",
        "  print(\"nome non trovato\")"
      ],
      "metadata": {
        "colab": {
          "base_uri": "https://localhost:8080/"
        },
        "id": "giXrVm0kPW6D",
        "outputId": "ef1d9903-25f2-4e30-e6f8-e17e61128b18"
      },
      "execution_count": null,
      "outputs": [
        {
          "output_type": "stream",
          "name": "stdout",
          "text": [
            "nome amico Andrea\n",
            "[150, 200]\n"
          ]
        }
      ]
    },
    {
      "cell_type": "code",
      "source": [
        "# 5\n",
        "CassaComune.pop[]\n",
        "CassaComune"
      ],
      "metadata": {
        "colab": {
          "base_uri": "https://localhost:8080/",
          "height": 200
        },
        "id": "95juHLxGR0DD",
        "outputId": "cc3e6195-095a-46b6-d943-ac275387af67"
      },
      "execution_count": null,
      "outputs": [
        {
          "output_type": "error",
          "ename": "TypeError",
          "evalue": "ignored",
          "traceback": [
            "\u001b[0;31m---------------------------------------------------------------------------\u001b[0m",
            "\u001b[0;31mTypeError\u001b[0m                                 Traceback (most recent call last)",
            "\u001b[0;32m<ipython-input-27-541921cf3fb1>\u001b[0m in \u001b[0;36m<module>\u001b[0;34m\u001b[0m\n\u001b[1;32m      1\u001b[0m \u001b[0;31m# 5\u001b[0m\u001b[0;34m\u001b[0m\u001b[0;34m\u001b[0m\u001b[0;34m\u001b[0m\u001b[0m\n\u001b[0;32m----> 2\u001b[0;31m \u001b[0;32mdel\u001b[0m \u001b[0mCassaComune\u001b[0m\u001b[0;34m[\u001b[0m\u001b[0;34m\"Andrea\"\u001b[0m\u001b[0;34m]\u001b[0m\u001b[0;34m\u001b[0m\u001b[0;34m\u001b[0m\u001b[0m\n\u001b[0m\u001b[1;32m      3\u001b[0m \u001b[0mCassaComune\u001b[0m\u001b[0;34m\u001b[0m\u001b[0;34m\u001b[0m\u001b[0m\n",
            "\u001b[0;31mTypeError\u001b[0m: list indices must be integers or slices, not str"
          ]
        }
      ]
    },
    {
      "cell_type": "markdown",
      "source": [
        "Utilizzare la list comprehension per caricare una lista con 100 numeri casuali compresi tra 1 e 20 (estremi inclusi).\n",
        "Scrivere il codice per caricare in una opportuna struttura dati (una sola struttura dati) il numero di volte che ogni numero si ripete. Ad esempio se la lista contenesse [4, 5, 4, 2, 4, 5] bisognerebbe memorizzare nella struttura dati il fatto che il 4 si ripete tre volte, il 5 due volte, il 2 una volta sola. Chiamare la struttura dati “ripetizioni”\n",
        "Visualizzare l’elenco dei numeri della struttura dati nella forma <numero> - <numeroRipetizioni>\n",
        "\tordinandolo sul numero.\n",
        "Visualizzare l’elenco precedente ordinandolo in ordine decrescente sul numero di ripetizioni\n"
      ],
      "metadata": {
        "id": "HqQgjgGnSs9v"
      }
    },
    {
      "cell_type": "code",
      "source": [
        "import random\n",
        "lista = [random.randint(1,20) for x in range(100)]\n",
        "print(lista)"
      ],
      "metadata": {
        "colab": {
          "base_uri": "https://localhost:8080/"
        },
        "id": "i0MMM273SpFj",
        "outputId": "8374dc89-72f1-4f9d-a0a6-f20d7d75a99e"
      },
      "execution_count": null,
      "outputs": [
        {
          "output_type": "stream",
          "name": "stdout",
          "text": [
            "[16, 17, 12, 14, 10, 14, 12, 1, 20, 4, 9, 4, 17, 2, 19, 1, 1, 4, 18, 14, 3, 3, 11, 17, 4, 20, 17, 16, 15, 14, 15, 14, 5, 10, 14, 1, 18, 19, 5, 15, 16, 18, 12, 12, 20, 14, 4, 11, 1, 13, 16, 6, 17, 6, 18, 3, 4, 5, 3, 11, 18, 18, 13, 12, 9, 14, 2, 6, 19, 3, 5, 3, 6, 17, 11, 3, 12, 6, 17, 4, 8, 4, 16, 1, 20, 1, 3, 17, 10, 7, 2, 11, 4, 13, 14, 20, 14, 7, 6, 11]\n"
          ]
        }
      ]
    },
    {
      "cell_type": "code",
      "source": [
        "# Scrivere il codice per caricare in una opportuna struttura dati (una sola struttura dati) il numero di volte che ogni numero si ripete\n",
        "ripetizioni = {i:lista.count(i) for i in lista}\n",
        "print(ripetizioni)"
      ],
      "metadata": {
        "colab": {
          "base_uri": "https://localhost:8080/"
        },
        "id": "jaNkmeFUTG1E",
        "outputId": "defa9c16-40c1-4645-d557-5e5a4473ca2d"
      },
      "execution_count": null,
      "outputs": [
        {
          "output_type": "stream",
          "name": "stdout",
          "text": [
            "{16: 5, 17: 8, 12: 6, 14: 10, 10: 3, 1: 7, 20: 5, 4: 9, 9: 2, 2: 3, 19: 3, 18: 6, 3: 8, 11: 6, 15: 3, 5: 4, 13: 3, 6: 6, 8: 1, 7: 2}\n"
          ]
        }
      ]
    },
    {
      "cell_type": "code",
      "source": [
        "for key,value in ripetizioni.items():\n",
        "  print(key,\"è stato ripetuto\",value, \"volte\")"
      ],
      "metadata": {
        "id": "5FzAM-0bV2hM"
      },
      "execution_count": null,
      "outputs": []
    },
    {
      "cell_type": "code",
      "source": [
        "import operator\n",
        "dati = dict(sorted(ripetizioni.items(), key = operator.itemgetter(1),reverse = True))\n",
        "print(dati)"
      ],
      "metadata": {
        "colab": {
          "base_uri": "https://localhost:8080/"
        },
        "id": "Ll_scvhjV4hc",
        "outputId": "bdbfad54-3e05-4be5-fb5e-4614f03a6217"
      },
      "execution_count": null,
      "outputs": [
        {
          "output_type": "stream",
          "name": "stdout",
          "text": [
            "{14: 10, 4: 9, 17: 8, 3: 8, 1: 7, 12: 6, 18: 6, 11: 6, 6: 6, 16: 5, 20: 5, 5: 4, 10: 3, 2: 3, 19: 3, 15: 3, 13: 3, 9: 2, 7: 2, 8: 1}\n"
          ]
        }
      ]
    },
    {
      "cell_type": "code",
      "source": [],
      "metadata": {
        "id": "XZOv5-_OXakT"
      },
      "execution_count": null,
      "outputs": []
    }
  ]
}